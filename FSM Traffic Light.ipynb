{
 "cells": [
  {
   "cell_type": "code",
   "execution_count": 1,
   "id": "5cb55f04-8a54-4178-a72d-307c1ee2bae1",
   "metadata": {},
   "outputs": [],
   "source": [
    "import time"
   ]
  },
  {
   "cell_type": "code",
   "execution_count": 2,
   "id": "d0b7a30f-b5c0-4d9f-80c5-8f0d5ee2b5f3",
   "metadata": {},
   "outputs": [
    {
     "data": {
      "text/plain": [
       "' Finite State Machine (FSM) Model for Pedestrian Crossing Lights\\n STATES:\\n     Red => Vehicles can pass, pedestrians wait.\\n     Yellov => Vehicles prepare to stop.\\n     Green => Pedestrians can cross, vehicles wait.\\n\\n Transition Rules:\\n     Red\" => Yellow => Green\\n     ! Each transition is automatically made after a certain period of time.\\n     \\n\\n\\n'"
      ]
     },
     "execution_count": 2,
     "metadata": {},
     "output_type": "execute_result"
    }
   ],
   "source": [
    "\"\"\" Finite State Machine (FSM) Model for Pedestrian Crossing Lights\n",
    " STATES:\n",
    "     Red => Vehicles can pass, pedestrians wait.\n",
    "     Yellov => Vehicles prepare to stop.\n",
    "     Green => Pedestrians can cross, vehicles wait.\n",
    "\n",
    " Transition Rules:\n",
    "     Red\" => Yellow => Green\n",
    "     ! Each transition is automatically made after a certain period of time.\n",
    "     \n",
    "\n",
    "\n",
    "\"\"\""
   ]
  },
  {
   "cell_type": "code",
   "execution_count": 3,
   "id": "49dc59ae-3b2b-4bba-9d73-9b3cceb72c5e",
   "metadata": {},
   "outputs": [],
   "source": [
    "class CrosswalkFSM:\n",
    "    def __init__(self):\n",
    "        # At the beginning, the traffic light is red.\n",
    "        self.state ='Red'\n",
    "\n",
    "    def next_state(self):\n",
    "        # It changes the state in a set order\n",
    "        if self.state=='Red':\n",
    "            self.state='Yellow'\n",
    "            print('🟡 Vehicles are preparing to stop\\n')\n",
    "        elif self.state=='Yellow':\n",
    "            self.state='Green'\n",
    "            print('🟢 Pedestrians can cross\\n')\n",
    "        elif self.state=='Green':\n",
    "            self.state='Red'\n",
    "            print('Vehicles can pass, pedestrians have to wait\\n')\n",
    "        print('🚦 New State:{}\\n'.format(self.state))\n",
    "\n",
    "    def run(self, loop_number=5):\n",
    "        # It runs the FSM in a loop. It waits 3 seconds after each state for a realistic simulation.\n",
    "        for i in range(loop_number):\n",
    "            self.show_state()\n",
    "            time.sleep(3)\n",
    "            self.next_state()\n",
    "\n",
    "    def show_state(self):\n",
    "        # It shows the current traffic light state on the screen\n",
    "        print('🚦 Current traffic light state:{}'.format(self.state))"
   ]
  },
  {
   "cell_type": "code",
   "execution_count": 4,
   "id": "f3d51011-cd4d-4257-a130-213738541752",
   "metadata": {},
   "outputs": [
    {
     "name": "stdout",
     "output_type": "stream",
     "text": [
      "🚦 Current traffic light state:Red\n",
      "🟡 Vehicles are preparing to stop\n",
      "\n",
      "🚦 New State:Yellow\n",
      "\n",
      "🚦 Current traffic light state:Yellow\n",
      "🟢 Pedestrians can cross\n",
      "\n",
      "🚦 New State:Green\n",
      "\n",
      "🚦 Current traffic light state:Green\n",
      "Vehicles can pass, pedestrians have to wait\n",
      "\n",
      "🚦 New State:Red\n",
      "\n",
      "🚦 Current traffic light state:Red\n",
      "🟡 Vehicles are preparing to stop\n",
      "\n",
      "🚦 New State:Yellow\n",
      "\n",
      "🚦 Current traffic light state:Yellow\n",
      "🟢 Pedestrians can cross\n",
      "\n",
      "🚦 New State:Green\n",
      "\n"
     ]
    }
   ],
   "source": [
    "# Lets test the FSM.\n",
    "crosswalk= CrosswalkFSM()\n",
    "crosswalk.run()"
   ]
  }
 ],
 "metadata": {
  "kernelspec": {
   "display_name": "Python 3 (ipykernel)",
   "language": "python",
   "name": "python3"
  },
  "language_info": {
   "codemirror_mode": {
    "name": "ipython",
    "version": 3
   },
   "file_extension": ".py",
   "mimetype": "text/x-python",
   "name": "python",
   "nbconvert_exporter": "python",
   "pygments_lexer": "ipython3",
   "version": "3.11.7"
  }
 },
 "nbformat": 4,
 "nbformat_minor": 5
}
